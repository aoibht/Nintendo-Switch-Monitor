{
 "cells": [
  {
   "cell_type": "code",
   "execution_count": null,
   "metadata": {},
   "outputs": [
    {
     "name": "stdout",
     "output_type": "stream",
     "text": [
      "sleeping for 1233 seconds\n",
      "sleeping for 1283 seconds\n"
     ]
    }
   ],
   "source": [
    "import requests\n",
    "import bs4\n",
    "import smtplib\n",
    "import random\n",
    "import time\n",
    "\n",
    "def send_found_email(switch_url):\n",
    "    gmail_user = 'foundnintendojoe@gmail.com'\n",
    "    gmail_password = 'PASSWORD'\n",
    "\n",
    "    sent_from = gmail_user\n",
    "    to = ['Email', 'Email']\n",
    "    subject = 'Nintendo Switch In Stock'\n",
    "    body = 'Hello, It Appears that the nintendo switch is in stock ' + switch_url \n",
    "\n",
    "    email_text = \"\"\"\\\n",
    "    From: %s\n",
    "    To: %s\n",
    "    Subject: %s\n",
    "\n",
    "    %s\n",
    "    \"\"\" % (sent_from, \", \".join(to), subject, body)\n",
    "\n",
    "    try:\n",
    "        server = smtplib.SMTP_SSL('smtp.gmail.com', 465)\n",
    "        server.ehlo()\n",
    "        server.login(gmail_user, gmail_password)\n",
    "        server.sendmail(sent_from, to, email_text)\n",
    "        server.close()\n",
    "    except:\n",
    "        print(\"no good\")\n",
    "\n",
    "def monitor_target(switch_url):\n",
    "    r = requests.get(switch_url)\n",
    "    soup = bs4.BeautifulSoup(r.content, 'html.parser')\n",
    "    status = soup.find(\"div\", attrs={'data-test': 'oosDeliveryOption'})\n",
    "    if status.text != \"Temporarily out of stock\":\n",
    "        send_found_email(switch_url)\n",
    "        print(\"found one nearby\")\n",
    "        return 1\n",
    "    else:\n",
    "        time.sleep(1.3)\n",
    "        return 0\n",
    "\n",
    "        \n",
    "def run_main():    \n",
    "    black_switch = \"https://www.target.com/p/nintendo-switch-with-gray-joy-con/-/A-77464002\"\n",
    "    neon_switch = \"https://www.target.com/p/nintendo-switch-with-neon-blue-and-neon-red-joy-con/-/A-77464001\"\n",
    "\n",
    "    for i in range(100000):\n",
    "        status = monitor_target(black_switch)\n",
    "        status += monitor_target(neon_switch)\n",
    "        if status == 0:\n",
    "            try:\n",
    "                num1 = random.randint(1200, 1380)\n",
    "            except:\n",
    "                num1 = 1220\n",
    "            print(\"sleeping for\", num1, \"seconds\")\n",
    "            time.sleep(num1)\n",
    "        else:\n",
    "            break\n",
    "run_main()\n"
   ]
  }
 ],
 "metadata": {
  "kernelspec": {
   "display_name": "Python 3",
   "language": "python",
   "name": "python3"
  },
  "language_info": {
   "codemirror_mode": {
    "name": "ipython",
    "version": 3
   },
   "file_extension": ".py",
   "mimetype": "text/x-python",
   "name": "python",
   "nbconvert_exporter": "python",
   "pygments_lexer": "ipython3",
   "version": "3.7.4"
  }
 },
 "nbformat": 4,
 "nbformat_minor": 2
}
